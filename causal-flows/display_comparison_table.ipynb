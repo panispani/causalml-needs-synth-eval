{
 "cells": [
  {
   "cell_type": "code",
   "execution_count": null,
   "metadata": {},
   "outputs": [],
   "source": [
    "import pandas as pd\n",
    "from IPython.display import display"
   ]
  },
  {
   "cell_type": "code",
   "execution_count": null,
   "metadata": {},
   "outputs": [],
   "source": [
    "# Set Pandas display options to avoid truncation\n",
    "pd.set_option('display.max_columns', None)  # Display all columns\n",
    "pd.set_option('display.expand_frame_repr', False)  # Prevent wrapping onto multiple lines"
   ]
  },
  {
   "cell_type": "code",
   "execution_count": null,
   "metadata": {},
   "outputs": [],
   "source": [
    "# Load the DataFrame from the pickle file\n",
    "file_path = 'results/dataframes/comparison_flows.pickle'\n",
    "\n",
    "# Try to load and display the DataFrame\n",
    "try:\n",
    "    # Load the DataFrame\n",
    "    df = pd.read_pickle(file_path)\n",
    "\n",
    "    # Display information about the DataFrame\n",
    "    print(\"DataFrame Loaded Successfully!\")\n",
    "    print(f\"Shape: {df.shape}\")\n",
    "    print(f\"Columns: {df.columns.tolist()}\")\n",
    "    print(f\"Index Levels: {df.index.names}\")\n",
    "    \n",
    "    # Display the DataFrame with interactive table (if using JupyterLab or IPython)\n",
    "    display(df)\n",
    "    \n",
    "except Exception as e:\n",
    "    print(f\"Error loading the DataFrame: {e}\")"
   ]
  }
 ],
 "metadata": {
  "language_info": {
   "name": "python"
  },
  "orig_nbformat": 4
 },
 "nbformat": 4,
 "nbformat_minor": 2
}
